{
 "cells": [
  {
   "cell_type": "code",
   "execution_count": 4,
   "id": "21bf7af5",
   "metadata": {},
   "outputs": [],
   "source": [
    "import numpy as np\n",
    "from scipy.integrate import odeint\n",
    "import matplotlib.pyplot as plt\n",
    "%matplotlib inline"
   ]
  },
  {
   "cell_type": "markdown",
   "id": "142214bb",
   "metadata": {},
   "source": [
    "# Bulls Eye Problem - Simulation\n",
    "    Suppose a person hits the bulls eye with probability 0.7. \n",
    "    Calculate the probability of person hitting atleast one bulls eye varying with no of hits.\n",
    "    Solve using Simulation"
   ]
  },
  {
   "cell_type": "code",
   "execution_count": 34,
   "id": "af712956",
   "metadata": {},
   "outputs": [],
   "source": [
    "# Bull eye problem\n",
    "num_hits = np.arange(2,100)\n",
    "n_expt_per_n = 10000\n",
    "\n",
    "expt_values = []\n",
    "for i in num_hits:  \n",
    "    x = np.random.choice(['Y','N'],p=[0.7,0.3],size = (n_expt_per_n,i))\n",
    "    expt_outcomes = []\n",
    "    for j in x:\n",
    "        found = 0\n",
    "        count_Y = list(j).count('Y')\n",
    "        if count_Y> 1:\n",
    "            found += 1\n",
    "        expt_outcomes.append(found)\n",
    "    expt_values.append(sum(expt_outcomes)/len(expt_outcomes))\n",
    "\n",
    "# np.interp()"
   ]
  },
  {
   "cell_type": "code",
   "execution_count": 35,
   "id": "3a319af0",
   "metadata": {},
   "outputs": [
    {
     "data": {
      "text/plain": [
       "[<matplotlib.lines.Line2D at 0x7fd095851220>]"
      ]
     },
     "execution_count": 35,
     "metadata": {},
     "output_type": "execute_result"
    },
    {
     "data": {
      "image/png": "[encoded data removed]",
      "text/plain": [
       "<Figure size 432x288 with 1 Axes>"
      ]
     },
     "metadata": {
      "needs_background": "light"
     },
     "output_type": "display_data"
    }
   ],
   "source": [
    "plt.plot(num_hits,expt_values)"
   ]
  },
  {
   "cell_type": "markdown",
   "id": "a58278ea",
   "metadata": {},
   "source": [
    "# Election win across country Simulation\n",
    "    Suppose there are 50 states and two parties Red and White. A party wins the entire election of country if it wins in more than 50% states. Calculate probability of winning red in less than 45% of the states using simulation"
   ]
  },
  {
   "cell_type": "code",
   "execution_count": 23,
   "id": "31b28f60",
   "metadata": {},
   "outputs": [
    {
     "name": "stdout",
     "output_type": "stream",
     "text": [
      "Probability of Red winning in less than 45% of the states = 0.23847\n"
     ]
    }
   ],
   "source": [
    "outcomes, sims = [], 100000\n",
    "for _ in range(sims):\n",
    "    probs = np.random.rand(50)\n",
    "    # Simulate elections in the 50 states\n",
    "    election = np.random.binomial(p=probs, n=1)\n",
    "    # Get average of Red wins and add to `outcomes`\n",
    "    outcomes.append(election.mean())\n",
    "\n",
    "# Calculate probability of Red winning in less than 45% of the states\n",
    "prob_red_wins = sum([(x < 0.45) for x in outcomes])/len(outcomes)\n",
    "print(\"Probability of Red winning in less than 45% of the states = {}\".format(prob_red_wins))"
   ]
  },
  {
   "cell_type": "markdown",
   "id": "945aa018",
   "metadata": {},
   "source": [
    "# Monty Hall using Simulation"
   ]
  },
  {
   "cell_type": "code",
   "execution_count": 40,
   "id": "2ceb4c2f",
   "metadata": {},
   "outputs": [
    {
     "name": "stdout",
     "output_type": "stream",
     "text": [
      "Probability of winning when player never switches gate 0.33392\n"
     ]
    }
   ],
   "source": [
    "#Monty Hall-not changing decision\n",
    "win=[]\n",
    "sims = 100000\n",
    "for _ in range(sims):\n",
    "    goat = [0]*3\n",
    "    n = np.random.choice([0,1,2])\n",
    "    goat[n] = 1\n",
    "    user_choice = np.random.choice([0,1,2])\n",
    "    if goat[user_choice] == 1:\n",
    "        win.append(1)\n",
    "print('Probability of winning when player never switches gate',np.sum(win)/sims) "
   ]
  },
  {
   "cell_type": "code",
   "execution_count": 41,
   "id": "00485a7e",
   "metadata": {},
   "outputs": [
    {
     "name": "stdout",
     "output_type": "stream",
     "text": [
      "Probability of winning when player always switches gate 0.66665\n"
     ]
    }
   ],
   "source": [
    "#Monty Hall - always changing decision\n",
    "win=[]\n",
    "sims = 100000\n",
    "for _ in range(sims):\n",
    "    goat = [0]*3\n",
    "    n = np.random.choice([0,1,2])\n",
    "    goat[n] = 1\n",
    "    user_choice = np.random.choice([0,1,2])\n",
    "    if user_choice == n:\n",
    "        continue\n",
    "    else:\n",
    "        win.append(1)\n",
    "print('Probability of winning when player always switches gate',np.sum(win)/sims)"
   ]
  },
  {
   "cell_type": "markdown",
   "id": "4e91f238",
   "metadata": {},
   "source": [
    "# Problem\n",
    "    One hundred people line up to board an airplane. \n",
    "    Each has a boarding pass with assigned seat. \n",
    "    However, the first person to board has lost his boarding pass and takes a random seat. \n",
    "    After that, each person takes \n",
    "        1. the assigned seat if it is unoccupied\n",
    "        2. one of unoccupied seats at random if occupied\n",
    "    What is the probability that the last person to board gets to sit in\n",
    "    his assigned seat?\n",
    "        \n",
    "    Extension: Increase the number of people loosing boarding pass"
   ]
  },
  {
   "cell_type": "code",
   "execution_count": 24,
   "id": "704b7640",
   "metadata": {},
   "outputs": [],
   "source": [
    "import numpy as np\n",
    "prob = []\n",
    "sims = 100000\n",
    "for k in range(1,10):                           #no of persons who lost boarding pass\n",
    "    count = 0\n",
    "    for _ in range(sims):                       #simulations\n",
    "        seats = np.zeros(100)                   # to take care of occupied and unoccupied seats\n",
    "        people_seat_nos = list(range(1,101))    #assigning seats to people\n",
    "        np.random.shuffle(people_seat_nos)      #randomizing the incoming people for more real world\n",
    "        seats[np.random.randint(1,101,k)-1] = 1 #first k persons taking random seat\n",
    "        people_seat_nos = people_seat_nos[k:]   #leaving out k initial passengers\n",
    "        for i in people_seat_nos[:-1]:          #leaving last passengers to check if he gets the seat or not\n",
    "            if seats[i-1] == 0:                 # if allotted seat is not occupied\n",
    "                seats[i-1] = 1\n",
    "            else:\n",
    "                #choosing random unoccopied seat as the allotted seat is occupied\n",
    "                rand_unocc_seat = np.random.choice(np.where(seats == 0)[0])\n",
    "                seats[rand_unocc_seat] = 1      #occupying the random seat\n",
    "        if seats[people_seat_nos[-1]-1] == 0:   #checking last person getting his allotted seat or not\n",
    "            count += 1\n",
    "    prob.append(count/sims)"
   ]
  },
  {
   "cell_type": "code",
   "execution_count": 25,
   "id": "a1c8dd80",
   "metadata": {},
   "outputs": [
    {
     "data": {
      "text/plain": [
       "Text(0.5, 0, 'No of persons lost boarding pass')"
      ]
     },
     "execution_count": 25,
     "metadata": {},
     "output_type": "execute_result"
    },
    {
     "data": {
      "image/png": "[encoded data removed]",
      "text/plain": [
       "<Figure size 720x720 with 1 Axes>"
      ]
     },
     "metadata": {
      "needs_background": "light"
     },
     "output_type": "display_data"
    }
   ],
   "source": [
    "plt.figure(figsize=(10,10))\n",
    "plt.plot(range(1,10),prob)\n",
    "plt.title('Prob of last person getting seat')\n",
    "plt.ylabel('Probability')\n",
    "plt.xlabel('No of persons lost boarding pass')"
   ]
  },
  {
   "cell_type": "markdown",
   "id": "d9295f7d",
   "metadata": {},
   "source": [
    "# Conclusions:\n",
    "    1. Independent of the number of seats or passengers\n",
    "    2. Independent of the order of the passengers coming in\n",
    "    3. Even if the first person lost the boarding pass, still only 50% chance that last person will get seat\n",
    "    4. Probability of last person getting seat increases after 15 persons loosing boarding pass\n",
    "    5. If only first person lost boarding pass, then the last person will eventually get either the actual seat no        of the person who lost boarding pass or his own seat. i.e. he has just two options among which only 1 is          satisfying . Hence the probability is 1/2 = 0.5"
   ]
  }
 ],
 "metadata": {
  "kernelspec": {
   "display_name": "Python 3",
   "language": "python",
   "name": "python3"
  },
  "language_info": {
   "codemirror_mode": {
    "name": "ipython",
    "version": 3
   },
   "file_extension": ".py",
   "mimetype": "text/x-python",
   "name": "python",
   "nbconvert_exporter": "python",
   "pygments_lexer": "ipython3",
   "version": "3.8.8"
  }
 },
 "nbformat": 4,
 "nbformat_minor": 5
}
