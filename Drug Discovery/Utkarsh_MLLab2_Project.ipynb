{
 "cells": [
  {
   "cell_type": "markdown",
   "metadata": {
    "id": "YIA37d8212uF"
   },
   "source": [
    "\n",
    "*   Firstly I downlaoded the AA.csv from the zinc website and uploaded to the google drive\n",
    "\n",
    "*   Then adjusted the shape of the array to fit the VAE. VAE model is referecened from Keras Website.\n",
    "\n",
    "\n",
    "*   The model was iterated over various no of samples ranging from 100 to 400000. But the model was not behaving in a good way. Also, the parameters were varied for various smaple data to fetch for a good result.\n",
    "\n",
    "*   After many iterations, the sample data was fixed to 500 and the model below.\n",
    "Then tried for validating the result for 10000 predicted smile representaion.\n",
    "\n",
    "\n",
    "*   But the latent space in which I was searching was unable to produce a valid smile representation. This doesn't mean that a valid smile representation will not exist.\n",
    "\n",
    "\n",
    "\n",
    "\n",
    "\n",
    "\n"
   ]
  },
  {
   "cell_type": "code",
   "execution_count": null,
   "metadata": {
    "colab": {
     "base_uri": "https://localhost:8080/"
    },
    "id": "hLH1-XybSXhT",
    "outputId": "c63d29d5-4058-430e-b9ec-e46fc04d41c4"
   },
   "outputs": [
    {
     "name": "stdout",
     "output_type": "stream",
     "text": [
      "  % Total    % Received % Xferd  Average Speed   Time    Time     Time  Current\n",
      "                                 Dload  Upload   Total   Spent    Left  Speed\n",
      "100  3669    0  3669    0     0  18253      0 --:--:-- --:--:-- --:--:-- 18253\n",
      "100 20.2M  100 20.2M    0     0  5244k      0  0:00:03  0:00:03 --:--:-- 6906k\n",
      "mv: cannot move 'lib/python3.6/site-packages/rdkit' to '/usr/local/lib/python3.6/dist-packages/rdkit': Directory not empty\n",
      "ln: failed to create symbolic link '/usr/lib/x86_64-linux-gnu/libboost_python3.so.1.65.1': File exists\n"
     ]
    }
   ],
   "source": [
    "#Installing RDKit in Collab\n",
    "url = 'https://anaconda.org/rdkit/rdkit/2018.09.1.0/download/linux-64/rdkit-2018.09.1.0-py36h71b666b_1.tar.bz2'\n",
    "!curl -L $url | tar xj lib\n",
    "!mv lib/python3.6/site-packages/rdkit /usr/local/lib/python3.6/dist-packages/\n",
    "x86 = '/usr/lib/x86_64-linux-gnu'\n",
    "!mv lib/*.so.* $x86/\n",
    "!ln -s $x86/libboost_python3-py36.so.1.65.1 $x86/libboost_python3.so.1.65.1"
   ]
  },
  {
   "cell_type": "code",
   "execution_count": null,
   "metadata": {
    "colab": {
     "base_uri": "https://localhost:8080/"
    },
    "id": "dYSLa1JVSbm3",
    "outputId": "4b11b4dc-178c-4e6f-e812-975d48d1c2c7"
   },
   "outputs": [
    {
     "name": "stdout",
     "output_type": "stream",
     "text": [
      "Drive already mounted at /content/drive; to attempt to forcibly remount, call drive.mount(\"/content/drive\", force_remount=True).\n"
     ]
    }
   ],
   "source": [
    "#mounting google drive\n",
    "from google.colab import drive\n",
    "drive.mount(\"/content/drive\")"
   ]
  },
  {
   "cell_type": "code",
   "execution_count": null,
   "metadata": {
    "colab": {
     "base_uri": "https://localhost:8080/"
    },
    "id": "ElQMVgbITGuz",
    "outputId": "37815179-eef1-4b5d-ae9f-87f08e864785"
   },
   "outputs": [
    {
     "name": "stdout",
     "output_type": "stream",
     "text": [
      "\u001b[0m\u001b[01;34mdrive\u001b[0m/  \u001b[01;34mlib\u001b[0m/  \u001b[01;34msample_data\u001b[0m/\n"
     ]
    }
   ],
   "source": [
    "ls"
   ]
  },
  {
   "cell_type": "code",
   "execution_count": null,
   "metadata": {
    "colab": {
     "base_uri": "https://localhost:8080/"
    },
    "id": "JiLFyDr6TONV",
    "outputId": "f0edf1e1-b6f5-49c0-ce61-1f00a1cd2011"
   },
   "outputs": [
    {
     "name": "stdout",
     "output_type": "stream",
     "text": [
      "/content/drive/MyDrive\n"
     ]
    }
   ],
   "source": [
    "%cd drive/MyDrive/"
   ]
  },
  {
   "cell_type": "code",
   "execution_count": null,
   "metadata": {
    "colab": {
     "base_uri": "https://localhost:8080/"
    },
    "id": "1eeUyn2TeHGs",
    "outputId": "547be7aa-7779-4b69-d04e-5ebb61fb8b30"
   },
   "outputs": [
    {
     "name": "stdout",
     "output_type": "stream",
     "text": [
      " AA.csv\n",
      "'Assignment 3.pdf'\n",
      "'Atomic Giants.mov'\n",
      " \u001b[0m\u001b[01;36mCelebA\u001b[0m@\n",
      "\u001b[01;34m'CelebA (1)'\u001b[0m/\n",
      " \u001b[01;34mCelebA_img\u001b[0m/\n",
      "\u001b[01;34m'Colab Notebooks'\u001b[0m/\n",
      " decoder.pkl\n",
      " \u001b[01;36mdrug_discovery\u001b[0m@\n",
      "'GC Health - Wearable Tech.gdoc'\n",
      " generated_plot_e1000.png\n",
      " generated_plot_e140.png\n",
      " generated_plot_e150.png\n",
      " generated_plot_e520.png\n",
      " generated_plot_e530.png\n",
      " generated_plot_e540.png\n",
      " generated_plot_e550.png\n",
      " generated_plot_e560.png\n",
      " generated_plot_e570.png\n",
      " generated_plot_e580.png\n",
      " generated_plot_e590.png\n",
      " generated_plot_e600.png\n",
      " generated_plot_e610.png\n",
      " generated_plot_e620.png\n",
      " generated_plot_e630.png\n",
      " generated_plot_e640.png\n",
      " generated_plot_e650.png\n",
      " generated_plot_e660.png\n",
      " generated_plot_e670.png\n",
      " generated_plot_e680.png\n",
      " generated_plot_e690.png\n",
      " generated_plot_e700.png\n",
      " generated_plot_e710.png\n",
      " generated_plot_e720.png\n",
      " generated_plot_e730.png\n",
      " generated_plot_e740.png\n",
      " generated_plot_e750.png\n",
      " generated_plot_e760.png\n",
      " generated_plot_e770.png\n",
      " generated_plot_e780.png\n",
      " generated_plot_e790.png\n",
      " generated_plot_e800.png\n",
      " generated_plot_e810.png\n",
      " generated_plot_e820.png\n",
      " generated_plot_e830.png\n",
      " generated_plot_e840.png\n",
      " generated_plot_e850.png\n",
      " generated_plot_e860.png\n",
      " generated_plot_e870.png\n",
      " generated_plot_e880.png\n",
      " generated_plot_e890.png\n",
      " generated_plot_e900.png\n",
      " generated_plot_e910.png\n",
      " generated_plot_e920.png\n",
      " generated_plot_e930.png\n",
      " generated_plot_e940.png\n",
      " generated_plot_e950.png\n",
      " generated_plot_e960.png\n",
      " generated_plot_e970.png\n",
      " generated_plot_e980.png\n",
      " generated_plot_e990.png\n",
      " generator_model_1000.h5\n",
      " generator_model_480.h5\n",
      " generator_model_490.h5\n",
      " generator_model_500.h5\n",
      " generator_model_510.h5\n",
      " generator_model_520.h5\n",
      " generator_model_530.h5\n",
      " generator_model_540.h5\n",
      " generator_model_550.h5\n",
      " generator_model_560.h5\n",
      " generator_model_570.h5\n",
      " generator_model_580.h5\n",
      " generator_model_590.h5\n",
      " generator_model_600.h5\n",
      " generator_model_610.h5\n",
      " generator_model_620.h5\n",
      " generator_model_630.h5\n",
      " generator_model_640.h5\n",
      " generator_model_650.h5\n",
      " generator_model_660.h5\n",
      " generator_model_670.h5\n",
      " generator_model_680.h5\n",
      " generator_model_690.h5\n",
      " generator_model_700.h5\n",
      " generator_model_710.h5\n",
      " generator_model_720.h5\n",
      " generator_model_730.h5\n",
      " generator_model_740.h5\n",
      " generator_model_750.h5\n",
      " generator_model_760.h5\n",
      " generator_model_770.h5\n",
      " generator_model_780.h5\n",
      " generator_model_790.h5\n",
      " generator_model_800.h5\n",
      " generator_model_810.h5\n",
      " generator_model_820.h5\n",
      " generator_model_830.h5\n",
      " generator_model_840.h5\n",
      " generator_model_850.h5\n",
      " generator_model_860.h5\n",
      " generator_model_870.h5\n",
      " generator_model_880.h5\n",
      " generator_model_890.h5\n",
      " generator_model_900.h5\n",
      " generator_model_910.h5\n",
      " generator_model_920.h5\n",
      " generator_model_930.h5\n",
      " generator_model_940.h5\n",
      " generator_model_950.h5\n",
      " generator_model_960.h5\n",
      " generator_model_970.h5\n",
      " generator_model_980.h5\n",
      " generator_model_990.h5\n",
      " g_model.pkl\n",
      "'Grand Challenge- Financial Ecosystems in Rural Areas.gdoc'\n",
      "'Grand Challenge Group 2.gslides'\n",
      "'IMG_2354 (1).jpg'\n",
      "'IMG_2354 (2).jpg'\n",
      "'IMG_2354 (3).jpg'\n",
      "'IMG_2354 (4).jpg'\n",
      "'IMG_2354 (5).jpg'\n",
      "'IMG_2354 (6).jpg'\n",
      "'IMG_2354 (7).jpg'\n",
      "'IMG_2354 (8).jpg'\n",
      " IMG_2354.jpg\n",
      " \u001b[01;34mlib\u001b[0m/\n",
      "\u001b[01;34m'Meet Recordings'\u001b[0m/\n",
      " model.pckl\n",
      " model.pkl\n",
      "\u001b[01;34m'Plaksha Classes'\u001b[0m/\n",
      "'Plaksha Welcome Package.gform'\n",
      "'Plaksha Welcome Package.gsheet'\n",
      "'Plaksha Welcome Package (Responses).gsheet'\n",
      "'Prototyping presentation.gslides'\n",
      " \u001b[01;34mPythin\u001b[0m/\n",
      " \u001b[01;34mPython\u001b[0m/\n",
      "'Screen Recording 2021-01-03 at 11.31.40 PM.mov'\n",
      " test1.npy\n",
      " Undertaking.pdf\n",
      "'Untitled spreadsheet (1).gsheet'\n",
      "'Untitled spreadsheet.gsheet'\n",
      " Utkarsh_2021_Mentee_Profile.docx\n",
      "'Utkarsh Mittal.jpg'\n",
      "'UtkarshMittal_Resume (1).pdf'\n",
      "'UtkarshMittal_Resume (2).pdf'\n",
      " UtkarshMittal_Resume.pdf\n"
     ]
    }
   ],
   "source": [
    "ls"
   ]
  },
  {
   "cell_type": "code",
   "execution_count": null,
   "metadata": {
    "colab": {
     "base_uri": "https://localhost:8080/",
     "height": 419
    },
    "id": "8vWO7UdLeq-w",
    "outputId": "13a82854-ec4d-497f-a844-6145e60d8eba"
   },
   "outputs": [
    {
     "data": {
      "text/html": [
       "<div>\n",
       "<style scoped>\n",
       "    .dataframe tbody tr th:only-of-type {\n",
       "        vertical-align: middle;\n",
       "    }\n",
       "\n",
       "    .dataframe tbody tr th {\n",
       "        vertical-align: top;\n",
       "    }\n",
       "\n",
       "    .dataframe thead th {\n",
       "        text-align: right;\n",
       "    }\n",
       "</style>\n",
       "<table border=\"1\" class=\"dataframe\">\n",
       "  <thead>\n",
       "    <tr style=\"text-align: right;\">\n",
       "      <th></th>\n",
       "      <th>zinc_id</th>\n",
       "      <th>smiles</th>\n",
       "    </tr>\n",
       "  </thead>\n",
       "  <tbody>\n",
       "    <tr>\n",
       "      <th>0</th>\n",
       "      <td>ZINC000000008151</td>\n",
       "      <td>C[C@H]1[C@@H](O)[C@H](CO)O[C@@H](O)[C@@H]1N</td>\n",
       "    </tr>\n",
       "    <tr>\n",
       "      <th>1</th>\n",
       "      <td>ZINC000000008153</td>\n",
       "      <td>CC[C@@H]1[C@@H](N)[C@@H](O)O[C@@H](CO)[C@@H]1O</td>\n",
       "    </tr>\n",
       "    <tr>\n",
       "      <th>2</th>\n",
       "      <td>ZINC000000008155</td>\n",
       "      <td>CC1(C)[C@@H](N)[C@@H](O)O[C@@H](CO)[C@@H]1O</td>\n",
       "    </tr>\n",
       "    <tr>\n",
       "      <th>3</th>\n",
       "      <td>ZINC000000018276</td>\n",
       "      <td>CS[C@@H]1CN[C@@H](CO)[C@H](O)[C@H]1O</td>\n",
       "    </tr>\n",
       "    <tr>\n",
       "      <th>4</th>\n",
       "      <td>ZINC000000018279</td>\n",
       "      <td>CS[C@@H]1[C@@H](O)CN[C@@H](CO)[C@@H]1O</td>\n",
       "    </tr>\n",
       "    <tr>\n",
       "      <th>...</th>\n",
       "      <td>...</td>\n",
       "      <td>...</td>\n",
       "    </tr>\n",
       "    <tr>\n",
       "      <th>427851</th>\n",
       "      <td>ZINC000242463989</td>\n",
       "      <td>O[Cl+3](O)(O)O</td>\n",
       "    </tr>\n",
       "    <tr>\n",
       "      <th>427852</th>\n",
       "      <td>ZINC000247713634</td>\n",
       "      <td>O1[SiH2][SiH2]O[SiH2][SiH2]1</td>\n",
       "    </tr>\n",
       "    <tr>\n",
       "      <th>427853</th>\n",
       "      <td>ZINC000252581626</td>\n",
       "      <td>O[Si](O)(O)F</td>\n",
       "    </tr>\n",
       "    <tr>\n",
       "      <th>427854</th>\n",
       "      <td>ZINC000685945533</td>\n",
       "      <td>Cn1nnnc1S(=O)(=O)F</td>\n",
       "    </tr>\n",
       "    <tr>\n",
       "      <th>427855</th>\n",
       "      <td>ZINC000725262634</td>\n",
       "      <td>Cn1nnc(S(=O)(=O)F)n1</td>\n",
       "    </tr>\n",
       "  </tbody>\n",
       "</table>\n",
       "<p>427856 rows × 2 columns</p>\n",
       "</div>"
      ],
      "text/plain": [
       "                 zinc_id                                          smiles\n",
       "0       ZINC000000008151     C[C@H]1[C@@H](O)[C@H](CO)O[C@@H](O)[C@@H]1N\n",
       "1       ZINC000000008153  CC[C@@H]1[C@@H](N)[C@@H](O)O[C@@H](CO)[C@@H]1O\n",
       "2       ZINC000000008155     CC1(C)[C@@H](N)[C@@H](O)O[C@@H](CO)[C@@H]1O\n",
       "3       ZINC000000018276            CS[C@@H]1CN[C@@H](CO)[C@H](O)[C@H]1O\n",
       "4       ZINC000000018279          CS[C@@H]1[C@@H](O)CN[C@@H](CO)[C@@H]1O\n",
       "...                  ...                                             ...\n",
       "427851  ZINC000242463989                                  O[Cl+3](O)(O)O\n",
       "427852  ZINC000247713634                    O1[SiH2][SiH2]O[SiH2][SiH2]1\n",
       "427853  ZINC000252581626                                    O[Si](O)(O)F\n",
       "427854  ZINC000685945533                              Cn1nnnc1S(=O)(=O)F\n",
       "427855  ZINC000725262634                            Cn1nnc(S(=O)(=O)F)n1\n",
       "\n",
       "[427856 rows x 2 columns]"
      ]
     },
     "execution_count": 23,
     "metadata": {
      "tags": []
     },
     "output_type": "execute_result"
    }
   ],
   "source": [
    "#taking AA.csv from 'http://zinc.docking.org/substances/subsets/AA/'\n",
    "import pandas as pd\n",
    "data = pd.read_csv('/content/drive/My Drive/drug_discovery/AA.csv')\n",
    "data"
   ]
  },
  {
   "cell_type": "code",
   "execution_count": null,
   "metadata": {
    "colab": {
     "base_uri": "https://localhost:8080/"
    },
    "id": "ox-GDOPdtBW8",
    "outputId": "01feabeb-9962-4bef-d0e5-3256d729b093"
   },
   "outputs": [
    {
     "data": {
      "text/plain": [
       "62"
      ]
     },
     "execution_count": 24,
     "metadata": {
      "tags": []
     },
     "output_type": "execute_result"
    }
   ],
   "source": [
    "data['smiles'].apply(len).max()#checking for max length of smiles"
   ]
  },
  {
   "cell_type": "code",
   "execution_count": null,
   "metadata": {
    "colab": {
     "base_uri": "https://localhost:8080/"
    },
    "id": "JuGqxIMmtIXX",
    "outputId": "f1f82de3-9aad-40a0-ea87-cefdd8937892"
   },
   "outputs": [
    {
     "data": {
      "text/plain": [
       "4"
      ]
     },
     "execution_count": 25,
     "metadata": {
      "tags": []
     },
     "output_type": "execute_result"
    }
   ],
   "source": [
    "data['smiles'].apply(len).min()#checking for min length of smiles"
   ]
  },
  {
   "cell_type": "code",
   "execution_count": null,
   "metadata": {
    "id": "0OQ47lQFfDjU"
   },
   "outputs": [],
   "source": [
    "from rdkit import Chem #importing rdkit"
   ]
  },
  {
   "cell_type": "code",
   "execution_count": null,
   "metadata": {
    "id": "6x-TbY7lfM-1"
   },
   "outputs": [],
   "source": [
    "#Definining encoder for smile encoding to array and from arry to smile representation\n",
    "SMILES_CHARS = [' ',\n",
    "                  '#', '%', '(', ')', '+', '-', '.', '/',\n",
    "                  '0', '1', '2', '3', '4', '5', '6', '7', '8', '9',\n",
    "                  '=', '@',\n",
    "                  'A', 'B', 'C', 'F', 'H', 'I', 'K', 'L', 'M', 'N', 'O', 'P',\n",
    "                  'R', 'S', 'T', 'V', 'X', 'Z',\n",
    "                  '[', '\\\\', ']',\n",
    "                  'a', 'b', 'c', 'e', 'g', 'i', 'l', 'n', 'o', 'p', 'r', 's',\n",
    "                  't', 'u']\n",
    "smi2index = dict( (c,i) for i,c in enumerate( SMILES_CHARS ) )\n",
    "index2smi = dict( (i,c) for i,c in enumerate( SMILES_CHARS ) )\n",
    "def smiles_encoder( smiles, maxlen=62 ):\n",
    "    smiles = Chem.MolToSmiles(Chem.MolFromSmiles( smiles ))\n",
    "    X = np.zeros( ( maxlen, len( SMILES_CHARS ) ) )\n",
    "    for i, c in enumerate( smiles ):\n",
    "        X[i, smi2index[c]] = 1\n",
    "    return X\n",
    "def smiles_decoder( X ):\n",
    "    smi = ''\n",
    "    X = X.argmax( axis=-1 )\n",
    "    for i in X:\n",
    "        smi += index2smi[i]\n",
    "    return smi"
   ]
  },
  {
   "cell_type": "code",
   "execution_count": null,
   "metadata": {
    "id": "ju2aBw-Gff9G"
   },
   "outputs": [],
   "source": [
    "#initialising the data. Taking 500 smiles representation\n",
    "#This was not performing good on more than 1000 smiles.\n",
    "import numpy as np\n",
    "x = []\n",
    "for i in data['smiles'][:500]:\n",
    "    #print(smiles_encoder(i))\n",
    "    x.append(smiles_encoder(i))\n",
    "arr = np.array(x)"
   ]
  },
  {
   "cell_type": "code",
   "execution_count": null,
   "metadata": {
    "colab": {
     "base_uri": "https://localhost:8080/"
    },
    "id": "EyGDicCqKHCy",
    "outputId": "6b0a9cdd-1e64-4921-faf7-4c598c075ef1"
   },
   "outputs": [
    {
     "data": {
      "text/plain": [
       "(500, 62, 56)"
      ]
     },
     "execution_count": 29,
     "metadata": {
      "tags": []
     },
     "output_type": "execute_result"
    }
   ],
   "source": [
    "arr.shape#checking for shape"
   ]
  },
  {
   "cell_type": "code",
   "execution_count": null,
   "metadata": {
    "id": "2Qx1k17Kfk_t"
   },
   "outputs": [],
   "source": [
    "arr = arr.reshape(-1,62,56,1) #reshaping the array to (500,62,56,1) for VAE"
   ]
  },
  {
   "cell_type": "code",
   "execution_count": null,
   "metadata": {
    "colab": {
     "base_uri": "https://localhost:8080/"
    },
    "id": "eHHQTQj2-cx_",
    "outputId": "e12954f0-7cce-429e-84ca-ea67b03c0737"
   },
   "outputs": [
    {
     "data": {
      "text/plain": [
       "(500, 62, 56, 1)"
      ]
     },
     "execution_count": 32,
     "metadata": {
      "tags": []
     },
     "output_type": "execute_result"
    }
   ],
   "source": [
    "arr.shape#rechecking the shape "
   ]
  },
  {
   "cell_type": "code",
   "execution_count": null,
   "metadata": {
    "id": "Bz8Mje5L0UI7"
   },
   "outputs": [],
   "source": [
    "#importing the required libraries\n",
    "import pandas as pd\n",
    "import numpy as np\n",
    "import matplotlib\n",
    "import matplotlib.pyplot as plt \n",
    "import matplotlib.patches as mpatches \n",
    "%matplotlib inline\n",
    "from scipy.stats import norm \n",
    "import keras\n",
    "from keras import layers\n",
    "from keras.models import Model \n",
    "from keras import metrics\n",
    "from keras import backend as K \n",
    "K.clear_session()\n",
    "np.random.seed(237)\n",
    "import scipy.stats as st\n",
    "import tensorflow.compat.v1.keras.backend as K \n",
    "import tensorflow as tf \n",
    "tf.compat.v1.disable_eager_execution()\n",
    "from tensorflow.keras.optimizers import Adam \n",
    "import warnings \n",
    "warnings.filterwarnings(\"ignore\")\n",
    "import matplotlib.pyplot as plt\n",
    "from mpl_toolkits.mplot3d import Axes3D \n",
    "import numpy as np\n",
    "from scipy.stats import multivariate_normal"
   ]
  },
  {
   "cell_type": "code",
   "execution_count": null,
   "metadata": {
    "id": "r5FoBrgeF5ZU"
   },
   "outputs": [],
   "source": [
    "#Encoder for VAE\n",
    "inp_shape = (62, 56,1)\n",
    "batch_size = 16\n",
    "latent_dim = 2\n",
    "inp_arr = keras.Input(shape=inp_shape)\n",
    "\n",
    "x = layers.Conv1D(32, 7,\n",
    "                  padding='same',\n",
    "                  activation='relu',\n",
    "                  )(inp_arr)\n",
    "x = layers.Conv2D(128, 3,\n",
    "                  padding='same',\n",
    "                  activation='relu',\n",
    "                  strides=(2, 2))(x)\n",
    "x = layers.Conv2D(128, 3,\n",
    "                  padding='same',\n",
    "                  activation='relu')(x)\n",
    "x = layers.Conv2D(128, 3,\n",
    "                  padding='same',\n",
    "                  activation='relu')(x)\n",
    "shape_before_flattening = K.int_shape(x)\n",
    "x = layers.Flatten()(x)\n",
    "x = layers.Dense(32, activation='relu')(x)\n",
    "z_mu = layers.Dense(latent_dim)(x)\n",
    "z_log_sigma = layers.Dense(latent_dim)(x)"
   ]
  },
  {
   "cell_type": "code",
   "execution_count": null,
   "metadata": {
    "id": "ibWwwiPZv6Dy"
   },
   "outputs": [],
   "source": [
    "#Defining the sampling function\n",
    "def sampling(args):\n",
    "  z_mu, z_log_sigma = args\n",
    "  epsilon = K.random_normal(shape=(K.shape(z_mu)[0], latent_dim),\n",
    "  mean=0., stddev=1.)\n",
    "  return z_mu + K.exp(z_log_sigma) * epsilon\n",
    "z = layers.Lambda(sampling)([z_mu, z_log_sigma])"
   ]
  },
  {
   "cell_type": "code",
   "execution_count": null,
   "metadata": {
    "id": "x2pDm2Xfv6X-"
   },
   "outputs": [],
   "source": [
    "#Defining the decoder\n",
    "decoder_input = layers.Input(K.int_shape(z)[1:])\n",
    "x = layers.Dense(np.prod(shape_before_flattening[1:]),\n",
    "                 activation='relu')(decoder_input)\n",
    "x = layers.Reshape(shape_before_flattening[1:])(x)\n",
    "x = layers.Conv2DTranspose(32, 3,\n",
    "                           padding='same',\n",
    "                           activation='relu',\n",
    "                           strides=(2, 2))(x)\n",
    "x = layers.Conv2D(1, 3,\n",
    "                  padding='same',\n",
    "                  activation='sigmoid')(x)\n",
    "decoder = Model(decoder_input, x)\n",
    "z_decoded = decoder(z)"
   ]
  },
  {
   "cell_type": "code",
   "execution_count": null,
   "metadata": {
    "id": "W8-s3hMF8qEC"
   },
   "outputs": [],
   "source": [
    "#Loss\n",
    "class CustomVariationalLayer(keras.layers.Layer):\n",
    "    def vae_loss(self, x, z_decoded):\n",
    "        x = K.flatten(x)\n",
    "        z_decoded = K.flatten(z_decoded)\n",
    "        xent_loss = keras.metrics.binary_crossentropy(x, z_decoded) #Recin loss\n",
    "        kl_loss = -5e-4 * K.mean(1 + z_log_sigma - K.square(z_mu) - K.exp(z_log_sigma), axis=-1) #KL loss\n",
    "        return K.mean(xent_loss + kl_loss)\n",
    "\n",
    "    def call(self, inputs):\n",
    "        x = inputs[0]\n",
    "        z_decoded = inputs[1]\n",
    "        loss = self.vae_loss(x, z_decoded)\n",
    "        self.add_loss(loss, inputs=inputs)\n",
    "        return x\n",
    "\n",
    "y = CustomVariationalLayer()([inp_arr, z_decoded])"
   ]
  },
  {
   "cell_type": "code",
   "execution_count": null,
   "metadata": {
    "colab": {
     "base_uri": "https://localhost:8080/"
    },
    "id": "P3Wm2AvY9MGf",
    "outputId": "88d2a30b-fde4-43d7-a565-02a0e0ccc4be"
   },
   "outputs": [
    {
     "name": "stdout",
     "output_type": "stream",
     "text": [
      "WARNING:tensorflow:Output custom_variational_layer missing from loss dictionary. We assume this was done on purpose. The fit and evaluate APIs will not be expecting any data to be passed to custom_variational_layer.\n",
      "Model: \"model_1\"\n",
      "__________________________________________________________________________________________________\n",
      "Layer (type)                    Output Shape         Param #     Connected to                     \n",
      "==================================================================================================\n",
      "input_1 (InputLayer)            [(None, 62, 56, 1)]  0                                            \n",
      "__________________________________________________________________________________________________\n",
      "conv1d (Conv1D)                 (None, 62, 56, 32)   256         input_1[0][0]                    \n",
      "__________________________________________________________________________________________________\n",
      "conv2d (Conv2D)                 (None, 31, 28, 128)  36992       conv1d[0][0]                     \n",
      "__________________________________________________________________________________________________\n",
      "conv2d_1 (Conv2D)               (None, 31, 28, 128)  147584      conv2d[0][0]                     \n",
      "__________________________________________________________________________________________________\n",
      "conv2d_2 (Conv2D)               (None, 31, 28, 128)  147584      conv2d_1[0][0]                   \n",
      "__________________________________________________________________________________________________\n",
      "flatten (Flatten)               (None, 111104)       0           conv2d_2[0][0]                   \n",
      "__________________________________________________________________________________________________\n",
      "dense (Dense)                   (None, 32)           3555360     flatten[0][0]                    \n",
      "__________________________________________________________________________________________________\n",
      "dense_1 (Dense)                 (None, 2)            66          dense[0][0]                      \n",
      "__________________________________________________________________________________________________\n",
      "dense_2 (Dense)                 (None, 2)            66          dense[0][0]                      \n",
      "__________________________________________________________________________________________________\n",
      "lambda (Lambda)                 (None, 2)            0           dense_1[0][0]                    \n",
      "                                                                 dense_2[0][0]                    \n",
      "__________________________________________________________________________________________________\n",
      "model (Functional)              (None, 62, 56, 1)    370497      lambda[0][0]                     \n",
      "__________________________________________________________________________________________________\n",
      "custom_variational_layer (Custo (None, 62, 56, 1)    0           input_1[0][0]                    \n",
      "                                                                 model[0][0]                      \n",
      "==================================================================================================\n",
      "Total params: 4,258,405\n",
      "Trainable params: 4,258,405\n",
      "Non-trainable params: 0\n",
      "__________________________________________________________________________________________________\n"
     ]
    }
   ],
   "source": [
    "# VAE model statement\n",
    "vae = Model(inp_arr, y)\n",
    "vae.compile(optimizer='rmsprop', loss=None)\n",
    "vae.summary()"
   ]
  },
  {
   "cell_type": "code",
   "execution_count": null,
   "metadata": {
    "colab": {
     "base_uri": "https://localhost:8080/"
    },
    "id": "5veujgFA9UtU",
    "outputId": "424cf3f8-62ff-4b46-c55b-f401c08a9d29"
   },
   "outputs": [
    {
     "name": "stdout",
     "output_type": "stream",
     "text": [
      "Train on 500 samples\n",
      "Epoch 1/120\n",
      "500/500 [==============================] - 1s 1ms/sample - loss: 0.2035\n",
      "Epoch 2/120\n",
      "500/500 [==============================] - 0s 417us/sample - loss: 0.0488\n",
      "Epoch 3/120\n",
      "500/500 [==============================] - 0s 409us/sample - loss: 0.0404\n",
      "Epoch 4/120\n",
      "500/500 [==============================] - 0s 416us/sample - loss: 0.0375\n",
      "Epoch 5/120\n",
      "500/500 [==============================] - 0s 407us/sample - loss: 0.0357\n",
      "Epoch 6/120\n",
      "500/500 [==============================] - 0s 412us/sample - loss: 0.0349\n",
      "Epoch 7/120\n",
      "500/500 [==============================] - 0s 414us/sample - loss: 0.0343\n",
      "Epoch 8/120\n",
      "500/500 [==============================] - 0s 403us/sample - loss: 0.0341\n",
      "Epoch 9/120\n",
      "500/500 [==============================] - 0s 411us/sample - loss: 0.0333\n",
      "Epoch 10/120\n",
      "500/500 [==============================] - 0s 412us/sample - loss: 0.0323\n",
      "Epoch 11/120\n",
      "500/500 [==============================] - 0s 409us/sample - loss: 0.0313\n",
      "Epoch 12/120\n",
      "500/500 [==============================] - 0s 410us/sample - loss: 0.0308\n",
      "Epoch 13/120\n",
      "500/500 [==============================] - 0s 416us/sample - loss: 0.0306\n",
      "Epoch 14/120\n",
      "500/500 [==============================] - 0s 423us/sample - loss: 0.0301\n",
      "Epoch 15/120\n",
      "500/500 [==============================] - 0s 411us/sample - loss: 0.0299\n",
      "Epoch 16/120\n",
      "500/500 [==============================] - 0s 418us/sample - loss: 0.0297\n",
      "Epoch 17/120\n",
      "500/500 [==============================] - 0s 406us/sample - loss: 0.0293\n",
      "Epoch 18/120\n",
      "500/500 [==============================] - 0s 410us/sample - loss: 0.0291\n",
      "Epoch 19/120\n",
      "500/500 [==============================] - 0s 411us/sample - loss: 0.0289\n",
      "Epoch 20/120\n",
      "500/500 [==============================] - 0s 417us/sample - loss: 0.0285\n",
      "Epoch 21/120\n",
      "500/500 [==============================] - 0s 410us/sample - loss: 0.0282\n",
      "Epoch 22/120\n",
      "500/500 [==============================] - 0s 410us/sample - loss: 0.0278\n",
      "Epoch 23/120\n",
      "500/500 [==============================] - 0s 420us/sample - loss: 0.0277\n",
      "Epoch 24/120\n",
      "500/500 [==============================] - 0s 414us/sample - loss: 0.0275\n",
      "Epoch 25/120\n",
      "500/500 [==============================] - 0s 407us/sample - loss: 0.0274\n",
      "Epoch 26/120\n",
      "500/500 [==============================] - 0s 412us/sample - loss: 0.0272\n",
      "Epoch 27/120\n",
      "500/500 [==============================] - 0s 407us/sample - loss: 0.0270\n",
      "Epoch 28/120\n",
      "500/500 [==============================] - 0s 409us/sample - loss: 0.0270\n",
      "Epoch 29/120\n",
      "500/500 [==============================] - 0s 414us/sample - loss: 0.0267\n",
      "Epoch 30/120\n",
      "500/500 [==============================] - 0s 410us/sample - loss: 0.0267\n",
      "Epoch 31/120\n",
      "500/500 [==============================] - 0s 408us/sample - loss: 0.0266\n",
      "Epoch 32/120\n",
      "500/500 [==============================] - 0s 410us/sample - loss: 0.0264\n",
      "Epoch 33/120\n",
      "500/500 [==============================] - 0s 414us/sample - loss: 0.0265\n",
      "Epoch 34/120\n",
      "500/500 [==============================] - 0s 416us/sample - loss: 0.0263\n",
      "Epoch 35/120\n",
      "500/500 [==============================] - 0s 416us/sample - loss: 0.0262\n",
      "Epoch 36/120\n",
      "500/500 [==============================] - 0s 410us/sample - loss: 0.0262\n",
      "Epoch 37/120\n",
      "500/500 [==============================] - 0s 410us/sample - loss: 0.0261\n",
      "Epoch 38/120\n",
      "500/500 [==============================] - 0s 408us/sample - loss: 0.0259\n",
      "Epoch 39/120\n",
      "500/500 [==============================] - 0s 417us/sample - loss: 0.0259\n",
      "Epoch 40/120\n",
      "500/500 [==============================] - 0s 411us/sample - loss: 0.0259\n",
      "Epoch 41/120\n",
      "500/500 [==============================] - 0s 407us/sample - loss: 0.0257\n",
      "Epoch 42/120\n",
      "500/500 [==============================] - 0s 411us/sample - loss: 0.0257\n",
      "Epoch 43/120\n",
      "500/500 [==============================] - 0s 414us/sample - loss: 0.0257\n",
      "Epoch 44/120\n",
      "500/500 [==============================] - 0s 422us/sample - loss: 0.0255\n",
      "Epoch 45/120\n",
      "500/500 [==============================] - 0s 410us/sample - loss: 0.0255\n",
      "Epoch 46/120\n",
      "500/500 [==============================] - 0s 408us/sample - loss: 0.0254\n",
      "Epoch 47/120\n",
      "500/500 [==============================] - 0s 406us/sample - loss: 0.0255\n",
      "Epoch 48/120\n",
      "500/500 [==============================] - 0s 409us/sample - loss: 0.0253\n",
      "Epoch 49/120\n",
      "500/500 [==============================] - 0s 411us/sample - loss: 0.0252\n",
      "Epoch 50/120\n",
      "500/500 [==============================] - 0s 415us/sample - loss: 0.0252\n",
      "Epoch 51/120\n",
      "500/500 [==============================] - 0s 409us/sample - loss: 0.0251\n",
      "Epoch 52/120\n",
      "500/500 [==============================] - 0s 419us/sample - loss: 0.0252\n",
      "Epoch 53/120\n",
      "500/500 [==============================] - 0s 412us/sample - loss: 0.0250\n",
      "Epoch 54/120\n",
      "500/500 [==============================] - 0s 409us/sample - loss: 0.0250\n",
      "Epoch 55/120\n",
      "500/500 [==============================] - 0s 411us/sample - loss: 0.0249\n",
      "Epoch 56/120\n",
      "500/500 [==============================] - 0s 411us/sample - loss: 0.0249\n",
      "Epoch 57/120\n",
      "500/500 [==============================] - 0s 414us/sample - loss: 0.0248\n",
      "Epoch 58/120\n",
      "500/500 [==============================] - 0s 417us/sample - loss: 0.0248\n",
      "Epoch 59/120\n",
      "500/500 [==============================] - 0s 416us/sample - loss: 0.0248\n",
      "Epoch 60/120\n",
      "500/500 [==============================] - 0s 409us/sample - loss: 0.0247\n",
      "Epoch 61/120\n",
      "500/500 [==============================] - 0s 410us/sample - loss: 0.0246\n",
      "Epoch 62/120\n",
      "500/500 [==============================] - 0s 419us/sample - loss: 0.0245\n",
      "Epoch 63/120\n",
      "500/500 [==============================] - 0s 409us/sample - loss: 0.0246\n",
      "Epoch 64/120\n",
      "500/500 [==============================] - 0s 410us/sample - loss: 0.0246\n",
      "Epoch 65/120\n",
      "500/500 [==============================] - 0s 406us/sample - loss: 0.0244\n",
      "Epoch 66/120\n",
      "500/500 [==============================] - 0s 427us/sample - loss: 0.0245\n",
      "Epoch 67/120\n",
      "500/500 [==============================] - 0s 406us/sample - loss: 0.0245\n",
      "Epoch 68/120\n",
      "500/500 [==============================] - 0s 408us/sample - loss: 0.0243\n",
      "Epoch 69/120\n",
      "500/500 [==============================] - 0s 408us/sample - loss: 0.0243\n",
      "Epoch 70/120\n",
      "500/500 [==============================] - 0s 404us/sample - loss: 0.0243\n",
      "Epoch 71/120\n",
      "500/500 [==============================] - 0s 407us/sample - loss: 0.0242\n",
      "Epoch 72/120\n",
      "500/500 [==============================] - 0s 410us/sample - loss: 0.0243\n",
      "Epoch 73/120\n",
      "500/500 [==============================] - 0s 415us/sample - loss: 0.0241\n",
      "Epoch 74/120\n",
      "500/500 [==============================] - 0s 409us/sample - loss: 0.0241\n",
      "Epoch 75/120\n",
      "500/500 [==============================] - 0s 411us/sample - loss: 0.0241\n",
      "Epoch 76/120\n",
      "500/500 [==============================] - 0s 415us/sample - loss: 0.0241\n",
      "Epoch 77/120\n",
      "500/500 [==============================] - 0s 411us/sample - loss: 0.0240\n",
      "Epoch 78/120\n",
      "500/500 [==============================] - 0s 412us/sample - loss: 0.0240\n",
      "Epoch 79/120\n",
      "500/500 [==============================] - 0s 411us/sample - loss: 0.0239\n",
      "Epoch 80/120\n",
      "500/500 [==============================] - 0s 406us/sample - loss: 0.0239\n",
      "Epoch 81/120\n",
      "500/500 [==============================] - 0s 413us/sample - loss: 0.0238\n",
      "Epoch 82/120\n",
      "500/500 [==============================] - 0s 412us/sample - loss: 0.0238\n",
      "Epoch 83/120\n",
      "500/500 [==============================] - 0s 422us/sample - loss: 0.0238\n",
      "Epoch 84/120\n",
      "500/500 [==============================] - 0s 414us/sample - loss: 0.0238\n",
      "Epoch 85/120\n",
      "500/500 [==============================] - 0s 415us/sample - loss: 0.0236\n",
      "Epoch 86/120\n",
      "500/500 [==============================] - 0s 407us/sample - loss: 0.0237\n",
      "Epoch 87/120\n",
      "500/500 [==============================] - 0s 408us/sample - loss: 0.0236\n",
      "Epoch 88/120\n",
      "500/500 [==============================] - 0s 410us/sample - loss: 0.0236\n",
      "Epoch 89/120\n",
      "500/500 [==============================] - 0s 409us/sample - loss: 0.0235\n",
      "Epoch 90/120\n",
      "500/500 [==============================] - 0s 411us/sample - loss: 0.0235\n",
      "Epoch 91/120\n",
      "500/500 [==============================] - 0s 415us/sample - loss: 0.0235\n",
      "Epoch 92/120\n",
      "500/500 [==============================] - 0s 422us/sample - loss: 0.0234\n",
      "Epoch 93/120\n",
      "500/500 [==============================] - 0s 413us/sample - loss: 0.0233\n",
      "Epoch 94/120\n",
      "500/500 [==============================] - 0s 412us/sample - loss: 0.0234\n",
      "Epoch 95/120\n",
      "500/500 [==============================] - 0s 411us/sample - loss: 0.0233\n",
      "Epoch 96/120\n",
      "500/500 [==============================] - 0s 410us/sample - loss: 0.0233\n",
      "Epoch 97/120\n",
      "500/500 [==============================] - 0s 417us/sample - loss: 0.0233\n",
      "Epoch 98/120\n",
      "500/500 [==============================] - 0s 413us/sample - loss: 0.0233\n",
      "Epoch 99/120\n",
      "500/500 [==============================] - 0s 415us/sample - loss: 0.0232\n",
      "Epoch 100/120\n",
      "500/500 [==============================] - 0s 409us/sample - loss: 0.0232\n",
      "Epoch 101/120\n",
      "500/500 [==============================] - 0s 411us/sample - loss: 0.0231\n",
      "Epoch 102/120\n",
      "500/500 [==============================] - 0s 418us/sample - loss: 0.0232\n",
      "Epoch 103/120\n",
      "500/500 [==============================] - 0s 415us/sample - loss: 0.0231\n",
      "Epoch 104/120\n",
      "500/500 [==============================] - 0s 415us/sample - loss: 0.0230\n",
      "Epoch 105/120\n",
      "500/500 [==============================] - 0s 417us/sample - loss: 0.0231\n",
      "Epoch 106/120\n",
      "500/500 [==============================] - 0s 413us/sample - loss: 0.0230\n",
      "Epoch 107/120\n",
      "500/500 [==============================] - 0s 411us/sample - loss: 0.0230\n",
      "Epoch 108/120\n",
      "500/500 [==============================] - 0s 406us/sample - loss: 0.0229\n",
      "Epoch 109/120\n",
      "500/500 [==============================] - 0s 412us/sample - loss: 0.0229\n",
      "Epoch 110/120\n",
      "500/500 [==============================] - 0s 408us/sample - loss: 0.0228\n",
      "Epoch 111/120\n",
      "500/500 [==============================] - 0s 408us/sample - loss: 0.0228\n",
      "Epoch 112/120\n",
      "500/500 [==============================] - 0s 410us/sample - loss: 0.0228\n",
      "Epoch 113/120\n",
      "500/500 [==============================] - 0s 412us/sample - loss: 0.0227\n",
      "Epoch 114/120\n",
      "500/500 [==============================] - 0s 410us/sample - loss: 0.0227\n",
      "Epoch 115/120\n",
      "500/500 [==============================] - 0s 410us/sample - loss: 0.0226\n",
      "Epoch 116/120\n",
      "500/500 [==============================] - 0s 416us/sample - loss: 0.0227\n",
      "Epoch 117/120\n",
      "500/500 [==============================] - 0s 423us/sample - loss: 0.0228\n",
      "Epoch 118/120\n",
      "500/500 [==============================] - 0s 412us/sample - loss: 0.0226\n",
      "Epoch 119/120\n",
      "500/500 [==============================] - 0s 418us/sample - loss: 0.0226\n",
      "Epoch 120/120\n",
      "500/500 [==============================] - 0s 416us/sample - loss: 0.0226\n"
     ]
    },
    {
     "data": {
      "text/plain": [
       "<tensorflow.python.keras.callbacks.History at 0x7f4386ad4a90>"
      ]
     },
     "execution_count": 39,
     "metadata": {
      "tags": []
     },
     "output_type": "execute_result"
    }
   ],
   "source": [
    "vae.fit(x=arr, y=None,\n",
    "        shuffle=False,\n",
    "        epochs=120,\n",
    "        batch_size=batch_size,\n",
    "        )"
   ]
  },
  {
   "cell_type": "code",
   "execution_count": 51,
   "metadata": {
    "colab": {
     "base_uri": "https://localhost:8080/"
    },
    "id": "5naLRnH7EHph",
    "outputId": "48c58317-ab85-46d0-8704-2cad57a09d29"
   },
   "outputs": [
    {
     "data": {
      "text/plain": [
       "{'1(/N/)N0',\n",
       " '1(NN/)N0',\n",
       " '1-N//(-))N#M00',\n",
       " '1-N//(-))N#oM00',\n",
       " '1-N//(-)1N#oM00',\n",
       " '1-N//(/))N#M00',\n",
       " '1-N//(/)N#M0',\n",
       " '1-N//(/)N#M00',\n",
       " '1C(NN/)N0',\n",
       " '1C(NN/)NC0',\n",
       " '1N/(/)N1#M0',\n",
       " '1N/(/)N1M0',\n",
       " '1N/(/)NM0',\n",
       " '1N//(/)N#M0',\n",
       " '1N//(/)N1#M0',\n",
       " '1N//)N0',\n",
       " '1N//)NM0',\n",
       " '1N/2/)NM0',\n",
       " '1N/N/)N0',\n",
       " 'C1C(NCN/)NC0',\n",
       " 'C1C(NN/)NC0',\n",
       " 'C1C(NNCN/)NC0',\n",
       " 'C1C(NNCN/)NC@H](OF',\n",
       " 'C1C(NNCN/)NC@](O',\n",
       " 'C1C(NNCN/)NC@](O0',\n",
       " 'C1C(NNCN/)NC@](OF',\n",
       " 'C1C(NNCN/)NCO0',\n",
       " 'C1C(NNCN/)NC](O0',\n",
       " 'C1C(NNCN/)NC]O0',\n",
       " 'C=C(@CN1O[CC@H](O)@',\n",
       " 'C=C(@CN1O[[C@H](O)',\n",
       " 'C=C(@CN1O[[C@H](O)@',\n",
       " 'C=C(C@CN1O[CC@H](O)@',\n",
       " 'C=C(C@N1O[CC@H](O)@',\n",
       " 'C=C(CN1O[[C@H](O)',\n",
       " 'C=C(NNCN/)NC@H](OF',\n",
       " 'C=C(NNCN/1)NC@H](OF',\n",
       " 'C=C(NNCN/1)N[C@H](OF',\n",
       " 'C=C(NNCN/1)[[C@H](OF',\n",
       " 'C=C(NNCN/1O[[C@H](OF',\n",
       " 'C=C(NOCN/1O[[C@H](O)',\n",
       " 'C=C(NOCN/1O[[C@H](OF',\n",
       " 'C=C(OCN/1O[[C@H](O)',\n",
       " 'C=C(OCN1O[[C@H](O)',\n",
       " 'C=C-C@@H1O[C@@H](O)C@H]([C@H]()[C@]',\n",
       " 'C=C-C@@H1O[C@@H](O)C@H]([C@H]()[C@]]',\n",
       " 'C=C-C@@H]1O[C@@H](O)C@H]([C@H]()[C@]]',\n",
       " 'C=C-C@@H]1O[C@@H](O)[C@@H]()[C@H]()[C@]]',\n",
       " 'C=C-C@@H]1O[C@@H](O)[C@@H](O)[@@H]()[C@H]]',\n",
       " 'C=C-C@@H]1O[C@@H](O)[C@@H](O)[@@H](O)[C@H]1O]',\n",
       " 'C=C-C@@H]1O[C@@H](O)[C@@H](O)[@@H](O)[C@H]O]',\n",
       " 'C=C-C@@H]1O[C@@H](O)[C@@H](O)[@@H](O)[C@H]]',\n",
       " 'C=C-C@@H]1O[C@@H](O)[C@@H](O)[C@H]()[C@H]]',\n",
       " 'C=C-C@@H]1O[C@@H](O)[C@@H](O)[C@H]()[C@]]',\n",
       " 'C=C-C@@H]1O[C@@H](O)[C@@H]([C@H]()[C@]]',\n",
       " 'C=C-C@@H]1O[C@@H](O)[C@H]([C@H]()[C@]]',\n",
       " 'C=CC@@N1O[CC@H](O)@',\n",
       " 'C=CC@@N1O[CC@H](O)@]',\n",
       " 'C=CC@@N1O[CC@H](O)@][',\n",
       " 'C=CC@@Z1O[C@@H](O)C[@]()[C',\n",
       " 'C=CC@@Z1O[C@@H](O)C[@]([C',\n",
       " 'C=CC@@Z1O[C@@H](O)[@]([',\n",
       " 'C=CC@@Z1O[C@@H](O)[@]([C',\n",
       " 'C=CC@@Z1O[CC@H](O)@][',\n",
       " 'C=CC@@Z1O[CC@H](O)[@]([',\n",
       " 'C=CC@@Z1O[CC@H](O)[@][',\n",
       " 'C=CC@N1O[CC@H](O)@',\n",
       " 'C=C[C@@H1O[C@@H](O)C([C@H]()[C@]',\n",
       " 'C=C[C@@H1O[C@@H](O)C@([C@H]()[C@]',\n",
       " 'C=C[C@@H1O[C@@H](O)C@H([C@H]()[C@]',\n",
       " 'C=C[C@@H1O[C@@H](O)C@H]([C@H]()[C@]',\n",
       " 'C=C[C@@H1O[C@@H](O)C[@H]()[C',\n",
       " 'C=C[C@@H1O[C@@H](O)C[@H]()[C]',\n",
       " 'C=C[C@@H1O[C@@H](O)C[C@H]()[C@]',\n",
       " 'C=C[C@@H1O[C@@H](O)C[C@H]()[C]',\n",
       " 'C=C[C@@Z1O[C@@H](O)C[@H]()[C',\n",
       " 'C=C[C@@Z1O[C@@H](O)C[@]()[C',\n",
       " 'CCC-C@@H]1O[C@@H](O)[C@@H](O)[@@H](O)[C@H]1O]'}"
      ]
     },
     "execution_count": 51,
     "metadata": {
      "tags": []
     },
     "output_type": "execute_result"
    }
   ],
   "source": [
    "#Prinitng the 10000 random predicted smiles from VAE\n",
    "import random\n",
    "result = []\n",
    "for i in random.sample(range(1, 10000000), 100):\n",
    "  for j in random.sample(range(1, 10000000), 100):\n",
    "    sample_vector = np.array([[i,j]])\n",
    "    res = decoder.predict(sample_vector)\n",
    "    res = res[0].reshape(62,56)\n",
    "    result.append(smiles_decoder(res).replace(' ',''))\n",
    "    # print(i,j)\n",
    "set(result)"
   ]
  },
  {
   "cell_type": "code",
   "execution_count": 41,
   "metadata": {
    "id": "bj5tEv864-r-"
   },
   "outputs": [],
   "source": [
    "from rdkit.Chem import Draw\n",
    "for i in result:\n",
    "  try:\n",
    "    m = Chem.MolFromSmiles(smiles_decoder(i))\n",
    "    fig = Draw.MolToMPL(m, size=(200,200))\n",
    "    print('possible')\n",
    "  except:\n",
    "    continue"
   ]
  },
  {
   "cell_type": "markdown",
   "metadata": {
    "id": "YAyZFei45bvM"
   },
   "source": [
    "#Checking the predcited smile representation (10000) whether it is a valid representation or not. Was unable to find one. But this was for the latent spave I was seeking into. There may be other latent space where a valid smile representation may exist."
   ]
  },
  {
   "cell_type": "code",
   "execution_count": 52,
   "metadata": {
    "colab": {
     "base_uri": "https://localhost:8080/",
     "height": 35
    },
    "id": "Tzmnmab_67b7",
    "outputId": "51b93728-c341-4f06-e3fa-45ac82d3c93e"
   },
   "outputs": [
    {
     "data": {
      "application/vnd.google.colaboratory.intrinsic+json": {
       "type": "string"
      },
      "text/plain": [
       "'C=C-C@@H]1O[C@@H](O)[C@H]([C@H]()[C@]]'"
      ]
     },
     "execution_count": 52,
     "metadata": {
      "tags": []
     },
     "output_type": "execute_result"
    }
   ],
   "source": [
    "result[2098]"
   ]
  },
  {
   "cell_type": "code",
   "execution_count": 55,
   "metadata": {
    "colab": {
     "base_uri": "https://localhost:8080/",
     "height": 35
    },
    "id": "ewRjMGSp69nS",
    "outputId": "dd6f9d6d-7323-42b2-8b7e-6e42576b78c0"
   },
   "outputs": [
    {
     "data": {
      "application/vnd.google.colaboratory.intrinsic+json": {
       "type": "string"
      },
      "text/plain": [
       "'C=C[C@@H1O[C@@H](O)C[C@H]()[C]'"
      ]
     },
     "execution_count": 55,
     "metadata": {
      "tags": []
     },
     "output_type": "execute_result"
    }
   ],
   "source": [
    "result[1099]"
   ]
  },
  {
   "cell_type": "code",
   "execution_count": 57,
   "metadata": {
    "colab": {
     "base_uri": "https://localhost:8080/",
     "height": 35
    },
    "id": "jE42CVAp7Gc5",
    "outputId": "ed77496c-6072-4694-dea6-a7f9d505db95"
   },
   "outputs": [
    {
     "data": {
      "application/vnd.google.colaboratory.intrinsic+json": {
       "type": "string"
      },
      "text/plain": [
       "'C1C(NNCN/)NC0'"
      ]
     },
     "execution_count": 57,
     "metadata": {
      "tags": []
     },
     "output_type": "execute_result"
    }
   ],
   "source": [
    "result[675]"
   ]
  }
 ],
 "metadata": {
  "accelerator": "GPU",
  "colab": {
   "collapsed_sections": [],
   "machine_shape": "hm",
   "name": "Drug_Design (2).ipynb",
   "provenance": []
  },
  "kernelspec": {
   "display_name": "Python 3",
   "language": "python",
   "name": "python3"
  },
  "language_info": {
   "codemirror_mode": {
    "name": "ipython",
    "version": 3
   },
   "file_extension": ".py",
   "mimetype": "text/x-python",
   "name": "python",
   "nbconvert_exporter": "python",
   "pygments_lexer": "ipython3",
   "version": "3.8.3"
  }
 },
 "nbformat": 4,
 "nbformat_minor": 1
}
